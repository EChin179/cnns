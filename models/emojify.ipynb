{
 "cells": [
  {
   "cell_type": "markdown",
   "metadata": {},
   "source": [
    "# Emojify!\n",
    "\n",
    "Use word vector representations to build an Emojifier. "
   ]
  },
  {
   "cell_type": "code",
   "execution_count": 1,
   "metadata": {
    "collapsed": true
   },
   "outputs": [],
   "source": [
    "# packages\n",
    "import numpy as np\n",
    "from emo_utils import *\n",
    "import emoji\n",
    "import matplotlib.pyplot as plt\n",
    "\n",
    "%matplotlib inline"
   ]
  },
  {
   "cell_type": "markdown",
   "metadata": {},
   "source": [
    "## 1. Emojifier-V1\n",
    "\n",
    "### Dataset EMOJISET\n",
    "\n",
    "- X contains 127 sentences (strings).\n",
    "- Y contains an integer label between 0 and 4 corresponding to an emoji for each sentence.\n",
    "\n",
    "Split the dataset between training (127 examples) and testing (56 examples)."
   ]
  },
  {
   "cell_type": "code",
   "execution_count": 5,
   "metadata": {},
   "outputs": [
    {
     "name": "stdout",
     "output_type": "stream",
     "text": [
      "never talk to me again 😞\n",
      "I am proud of your achievements 😄\n",
      "It is the worst day in my life 😞\n",
      "Miss you so much ❤️\n",
      "food is life 🍴\n",
      "I love you mum ❤️\n",
      "Stop saying bullshit 😞\n",
      "congratulations on your acceptance 😄\n",
      "The assignment is too long  😞\n",
      "I want to go play ⚾\n"
     ]
    }
   ],
   "source": [
    "X_train, Y_train = read_csv('data/train_emoji.csv')\n",
    "X_test, Y_test = read_csv('data/tesss.csv')\n",
    "maxLen = len(max(X_train, key=len).split())\n",
    "\n",
    "for idx in range(10):\n",
    "    print(X_train[idx], label_to_emoji(Y_train[idx]))"
   ]
  },
  {
   "cell_type": "markdown",
   "metadata": {},
   "source": [
    "### Overview of the Emojifier-V1\n",
    "\n",
    "#### Inputs and Outputs\n",
    "* **Input**: a sentence (e.g. \"I love you). \n",
    "* **Output**: a probability vector (1,5) (5 choices of emojis)\n",
    "\n",
    "Convert $Y$ from $(m, 1)$ into a \"one-hot representation\" $(m, 5)$, "
   ]
  },
  {
   "cell_type": "code",
   "execution_count": 6,
   "metadata": {},
   "outputs": [
    {
     "name": "stdout",
     "output_type": "stream",
     "text": [
      "Sentence 'I missed you' has label index 0, which is emoji ❤️\n",
      "Label index 0 in one-hot encoding format is [ 1.  0.  0.  0.  0.]\n"
     ]
    }
   ],
   "source": [
    "Y_oh_train = convert_to_one_hot(Y_train, C = 5)\n",
    "Y_oh_test = convert_to_one_hot(Y_test, C = 5)\n",
    "\n",
    "idx = 50\n",
    "print(f\"Sentence '{X_train[50]}' has label index {Y_train[idx]}, which is emoji {label_to_emoji(Y_train[idx])}\", )\n",
    "print(f\"Label index {Y_train[idx]} in one-hot encoding format is {Y_oh_train[idx]}\")"
   ]
  },
  {
   "cell_type": "markdown",
   "metadata": {},
   "source": [
    "### Implementing Emojifier-V1\n",
    "\n",
    "* Convert each word in the input sentence into their 50-dim GloVe word vector representations.\n",
    "* Take an average of the word vectors. "
   ]
  },
  {
   "cell_type": "code",
   "execution_count": 7,
   "metadata": {},
   "outputs": [
    {
     "name": "stdout",
     "output_type": "stream",
     "text": [
      "the index of cucumber in the vocabulary is 113317\n",
      "the 289846th word in the vocabulary is potatos\n"
     ]
    }
   ],
   "source": [
    "word_to_index, index_to_word, word_to_vec_map = read_glove_vecs('../../readonly/glove.6B.50d.txt')\n",
    "\n",
    "word = \"cucumber\"\n",
    "idx = 289846\n",
    "print(\"the index of\", word, \"in the vocabulary is\", word_to_index[word])\n",
    "print(\"the\", str(idx) + \"th word in the vocabulary is\", index_to_word[idx])"
   ]
  },
  {
   "cell_type": "markdown",
   "metadata": {},
   "source": [
    "**`sentence_to_avg() Overview`**\n",
    "\n",
    "`Converts a sentence (string) into a list of words (strings). Extracts the GloVe representation of each word\n",
    "and averages its value into a single vector encoding the meaning of the sentence.`\n",
    "\n",
    "**`Arguments`**\n",
    "```\n",
    "sentence -- string, one training example from X\n",
    "word_to_vec_map -- dictionary mapping every word in a vocabulary into its 50-dimensional vector representation\n",
    "```\n",
    "**`Returns`**\n",
    "```\n",
    "avg -- average vector encoding information about the sentence, numpy-array of shape (50,)\n",
    "```"
   ]
  },
  {
   "cell_type": "code",
   "execution_count": 8,
   "metadata": {
    "collapsed": true
   },
   "outputs": [],
   "source": [
    "def sentence_to_avg(sentence, word_to_vec_map):\n",
    "    \n",
    "    words = sentence.lower().split()        # split sentence into list of lower case words\n",
    "    avg = np.zeros((50, 1))                 # initialize average word vector\n",
    "    \n",
    "    total = 0                               # average the vectors\n",
    "    for w in words:\n",
    "        total += word_to_vec_map[w]\n",
    "    avg = total / len(words)\n",
    "    \n",
    "    return avg"
   ]
  },
  {
   "cell_type": "markdown",
   "metadata": {},
   "source": [
    "#### Model\n",
    "\n",
    "$$ z^{(i)} = W . avg^{(i)} + b$$\n",
    "\n",
    "$$ a^{(i)} = softmax(z^{(i)})$$\n",
    "\n",
    "$$ \\mathcal{L}^{(i)} = - \\sum_{k = 0}^{n_y - 1} Y_{oh,k}^{(i)} * log(a^{(i)}_k)$$\n",
    "\n",
    "**`model() Overview`**\n",
    "\n",
    "`Model to train word vector representations in numpy.`\n",
    "\n",
    "**`Arguments`**\n",
    "```\n",
    "X -- input data, numpy array of sentences as strings, of shape (m, 1)\n",
    "Y -- labels, numpy array of integers between 0 and 7, numpy-array of shape (m, 1)\n",
    "word_to_vec_map -- dictionary mapping every word in a vocabulary into its 50-dimensional vector representation\n",
    "learning_rate -- learning_rate for the stochastic gradient descent algorithm\n",
    "num_iterations -- number of iterations\n",
    "```\n",
    "**`Returns`**\n",
    "```\n",
    "pred -- vector of predictions, numpy-array of shape (m, 1)\n",
    "W -- weight matrix of the softmax layer, of shape (n_y, n_h)\n",
    "b -- bias of the softmax layer, of shape (n_y,)\n",
    "```"
   ]
  },
  {
   "cell_type": "code",
   "execution_count": 10,
   "metadata": {
    "collapsed": true
   },
   "outputs": [],
   "source": [
    "def model(X, Y, word_to_vec_map, learning_rate = 0.01, num_iterations = 400):\n",
    "    \n",
    "    np.random.seed(1)\n",
    "    m = Y.shape[0]                          # number of training examples\n",
    "    n_y = 5                                 # number of classes  \n",
    "    n_h = 50                                # dimensions of the GloVe vectors \n",
    "    \n",
    "    \n",
    "    W = np.random.randn(n_y, n_h) / np.sqrt(n_h)   # xavier initialization of parameters\n",
    "    b = np.zeros((n_y,))\n",
    "    \n",
    "    Y_oh = convert_to_one_hot(Y, C = n_y)          # convert Y to Y_onehot with n_y classes\n",
    "    \n",
    "    for t in range(num_iterations):\n",
    "        for i in range(m):\n",
    "            \n",
    "            avg = sentence_to_avg(X[i], word_to_vec_map)  # average word vectors of the ith example\n",
    "            z = np.dot(W, avg) + b                        # forward propagate the avg through softmax\n",
    "            a = softmax(z)\n",
    "            cost = - np.sum(Y_oh[i] * np.log(a))          # compute cost\n",
    "            \n",
    "            # compute gradients \n",
    "            dz = a - Y_oh[i]\n",
    "            dW = np.dot(dz.reshape(n_y,1), avg.reshape(1, n_h))\n",
    "            db = dz\n",
    "\n",
    "            # update parameters\n",
    "            W = W - learning_rate * dW\n",
    "            b = b - learning_rate * db\n",
    "        \n",
    "        if t % 100 == 0:\n",
    "            print(\"Epoch: \" + str(t) + \" --- cost = \" + str(cost))\n",
    "            pred = predict(X, Y, W, b, word_to_vec_map)\n",
    "\n",
    "    return pred, W, b"
   ]
  },
  {
   "cell_type": "code",
   "execution_count": 12,
   "metadata": {
    "scrolled": true
   },
   "outputs": [
    {
     "name": "stdout",
     "output_type": "stream",
     "text": [
      "Epoch: 0 --- cost = 1.95204988128\n",
      "Accuracy: 0.348484848485\n",
      "Epoch: 100 --- cost = 0.0797181872601\n",
      "Accuracy: 0.931818181818\n",
      "Epoch: 200 --- cost = 0.0445636924368\n",
      "Accuracy: 0.954545454545\n",
      "Epoch: 300 --- cost = 0.0343226737879\n",
      "Accuracy: 0.969696969697\n",
      "[[ 3.]\n",
      " [ 2.]\n",
      " [ 3.]\n",
      " [ 0.]\n",
      " [ 4.]\n",
      " [ 0.]\n",
      " [ 3.]\n",
      " [ 2.]\n",
      " [ 3.]\n",
      " [ 1.]\n",
      " [ 3.]\n",
      " [ 3.]\n",
      " [ 1.]\n",
      " [ 3.]\n",
      " [ 2.]\n",
      " [ 3.]\n",
      " [ 2.]\n",
      " [ 3.]\n",
      " [ 1.]\n",
      " [ 2.]\n",
      " [ 3.]\n",
      " [ 0.]\n",
      " [ 2.]\n",
      " [ 2.]\n",
      " [ 2.]\n",
      " [ 1.]\n",
      " [ 4.]\n",
      " [ 3.]\n",
      " [ 3.]\n",
      " [ 4.]\n",
      " [ 0.]\n",
      " [ 3.]\n",
      " [ 4.]\n",
      " [ 2.]\n",
      " [ 0.]\n",
      " [ 3.]\n",
      " [ 2.]\n",
      " [ 2.]\n",
      " [ 3.]\n",
      " [ 4.]\n",
      " [ 2.]\n",
      " [ 2.]\n",
      " [ 0.]\n",
      " [ 2.]\n",
      " [ 3.]\n",
      " [ 0.]\n",
      " [ 3.]\n",
      " [ 2.]\n",
      " [ 4.]\n",
      " [ 3.]\n",
      " [ 0.]\n",
      " [ 3.]\n",
      " [ 3.]\n",
      " [ 3.]\n",
      " [ 4.]\n",
      " [ 2.]\n",
      " [ 1.]\n",
      " [ 1.]\n",
      " [ 1.]\n",
      " [ 2.]\n",
      " [ 3.]\n",
      " [ 1.]\n",
      " [ 0.]\n",
      " [ 0.]\n",
      " [ 0.]\n",
      " [ 3.]\n",
      " [ 4.]\n",
      " [ 4.]\n",
      " [ 2.]\n",
      " [ 2.]\n",
      " [ 1.]\n",
      " [ 2.]\n",
      " [ 0.]\n",
      " [ 3.]\n",
      " [ 2.]\n",
      " [ 2.]\n",
      " [ 0.]\n",
      " [ 3.]\n",
      " [ 3.]\n",
      " [ 1.]\n",
      " [ 2.]\n",
      " [ 1.]\n",
      " [ 2.]\n",
      " [ 2.]\n",
      " [ 4.]\n",
      " [ 3.]\n",
      " [ 3.]\n",
      " [ 2.]\n",
      " [ 4.]\n",
      " [ 0.]\n",
      " [ 0.]\n",
      " [ 3.]\n",
      " [ 3.]\n",
      " [ 3.]\n",
      " [ 3.]\n",
      " [ 2.]\n",
      " [ 0.]\n",
      " [ 1.]\n",
      " [ 2.]\n",
      " [ 3.]\n",
      " [ 0.]\n",
      " [ 2.]\n",
      " [ 2.]\n",
      " [ 2.]\n",
      " [ 3.]\n",
      " [ 2.]\n",
      " [ 2.]\n",
      " [ 2.]\n",
      " [ 4.]\n",
      " [ 1.]\n",
      " [ 1.]\n",
      " [ 3.]\n",
      " [ 3.]\n",
      " [ 4.]\n",
      " [ 1.]\n",
      " [ 2.]\n",
      " [ 1.]\n",
      " [ 1.]\n",
      " [ 3.]\n",
      " [ 1.]\n",
      " [ 0.]\n",
      " [ 4.]\n",
      " [ 0.]\n",
      " [ 3.]\n",
      " [ 3.]\n",
      " [ 4.]\n",
      " [ 4.]\n",
      " [ 1.]\n",
      " [ 4.]\n",
      " [ 3.]\n",
      " [ 0.]\n",
      " [ 2.]]\n"
     ]
    }
   ],
   "source": [
    "pred, W, b = model(X_train, Y_train, word_to_vec_map)\n",
    "print(pred)"
   ]
  },
  {
   "cell_type": "markdown",
   "metadata": {},
   "source": [
    "### Test Set Performance "
   ]
  },
  {
   "cell_type": "code",
   "execution_count": 13,
   "metadata": {
    "scrolled": false
   },
   "outputs": [
    {
     "name": "stdout",
     "output_type": "stream",
     "text": [
      "Training set:\n",
      "Accuracy: 0.977272727273\n",
      "Test set:\n",
      "Accuracy: 0.857142857143\n"
     ]
    }
   ],
   "source": [
    "print(\"Training set:\")\n",
    "pred_train = predict(X_train, Y_train, W, b, word_to_vec_map)\n",
    "print('Test set:')\n",
    "pred_test = predict(X_test, Y_test, W, b, word_to_vec_map)"
   ]
  },
  {
   "cell_type": "code",
   "execution_count": 14,
   "metadata": {},
   "outputs": [
    {
     "name": "stdout",
     "output_type": "stream",
     "text": [
      "Accuracy: 0.833333333333\n",
      "\n",
      "i adore you ❤️\n",
      "i love you ❤️\n",
      "funny lol 😄\n",
      "lets play with a ball ⚾\n",
      "food is ready 🍴\n",
      "not feeling happy 😄\n"
     ]
    }
   ],
   "source": [
    "X_my_sentences = np.array([\"i adore you\", \"i love you\", \"funny lol\", \"lets play with a ball\", \"food is ready\", \"not feeling happy\"])\n",
    "Y_my_labels = np.array([[0], [0], [2], [1], [4],[3]])\n",
    "\n",
    "pred = predict(X_my_sentences, Y_my_labels , W, b, word_to_vec_map)\n",
    "print_predictions(X_my_sentences, pred)"
   ]
  },
  {
   "cell_type": "code",
   "execution_count": 15,
   "metadata": {},
   "outputs": [
    {
     "name": "stdout",
     "output_type": "stream",
     "text": [
      "(56,)\n",
      "           ❤️    ⚾    😄    😞   🍴\n",
      "Predicted  0.0  1.0  2.0  3.0  4.0  All\n",
      "Actual                                 \n",
      "0            6    0    0    1    0    7\n",
      "1            0    8    0    0    0    8\n",
      "2            2    0   16    0    0   18\n",
      "3            1    1    2   12    0   16\n",
      "4            0    0    1    0    6    7\n",
      "All          9    9   19   13    6   56\n"
     ]
    },
    {
     "data": {
      "image/png": "[encoded data removed]",
      "text/plain": [
       "<matplotlib.figure.Figure at 0x7fbbe6a66198>"
      ]
     },
     "metadata": {},
     "output_type": "display_data"
    }
   ],
   "source": [
    "# confusion matrix - shows how often an example is mislabeled\n",
    "\n",
    "print(Y_test.shape)\n",
    "print('           '+ label_to_emoji(0)+ '    ' + label_to_emoji(1) + '    ' +  label_to_emoji(2)+ '    ' + label_to_emoji(3)+'   ' + label_to_emoji(4))\n",
    "print(pd.crosstab(Y_test, pred_test.reshape(56,), rownames=['Actual'], colnames=['Predicted'], margins=True))\n",
    "plot_confusion_matrix(Y_test, pred_test)"
   ]
  },
  {
   "cell_type": "markdown",
   "metadata": {},
   "source": [
    "## 2. Emojifier-V2: Using LSTMs in Keras\n",
    "\n",
    "This time, we will build an LSTM model that takes word **sequences** as input, and will be able to account for the word ordering. "
   ]
  },
  {
   "cell_type": "code",
   "execution_count": 16,
   "metadata": {},
   "outputs": [
    {
     "name": "stderr",
     "output_type": "stream",
     "text": [
      "Using TensorFlow backend.\n"
     ]
    }
   ],
   "source": [
    "# packages\n",
    "import numpy as np\n",
    "np.random.seed(0)\n",
    "from keras.models import Model\n",
    "from keras.layers import Dense, Input, Dropout, LSTM, Activation\n",
    "from keras.layers.embeddings import Embedding\n",
    "from keras.preprocessing import sequence\n",
    "from keras.initializers import glorot_uniform\n",
    "np.random.seed(1)"
   ]
  },
  {
   "cell_type": "markdown",
   "metadata": {},
   "source": [
    "### Model Overview\n",
    "\n",
    "### Keras and Mini-batching \n",
    "\n",
    "We want to train Keras using mini-batches. However, most deep learning frameworks require that all sequences in the same mini-batch have the **same length** due to vectorization. The common solution is to use padding. We can set a maximum sequence length, and pad all sequences to have the same length. \n",
    "\n",
    "### The Embedding Layer\n",
    "\n",
    "The **embedding matrix** maps word indices to embedding vectors. In Keras, the embedding matrix is represented as a \"layer\", and can be derived by either training a model to derive the embeddings from scratch, or using a pretrained embedding.\n",
    "\n",
    "**Input**: an integer matrix (batch size, max input length) corresponding to sentences converted into lists of indices.\n",
    "\n",
    "**Output**: an array (batch size, max input length, dimension of word vectors)\n",
    "\n",
    "<img src=\"images/embedding1.png\" style=\"width:700px;height:250px;\">\n",
    "<caption><center> Embedding layer</center></caption>\n",
    "\n",
    "**`sentences_to_indices() Overview`**\n",
    "\n",
    "`Converts an array of sentences (strings) into an array of indices corresponding to words in the sentences. The output shape should be such that it can be given to Embedding().`\n",
    "\n",
    "**`Arguments`**\n",
    "```\n",
    "X -- array of sentences (strings), of shape (m, 1)\n",
    "word_to_index -- a dictionary containing the each word mapped to its index\n",
    "max_len -- maximum number of words in a sentence. You can assume every sentence in X is no longer than this. \n",
    "```\n",
    "**`Returns`**\n",
    "```\n",
    "X_indices -- array of indices corresponding to words in the sentences from X, of shape (m, max_len)\n",
    "```\n"
   ]
  },
  {
   "cell_type": "code",
   "execution_count": 18,
   "metadata": {
    "collapsed": true
   },
   "outputs": [],
   "source": [
    "def sentences_to_indices(X, word_to_index, max_len):\n",
    "\n",
    "    m = X.shape[0]                                   # number of training examples\n",
    "    X_indices = np.zeros((m, max_len))               # initialize X_indices    \n",
    "    \n",
    "    for i in range(m):                               # loop over training examples\n",
    "        \n",
    "        sentence_words = X[i].lower().split()\n",
    "\n",
    "        j = 0\n",
    "\n",
    "        for w in sentence_words:\n",
    "            X_indices[i, j] = word_to_index[w]\n",
    "            j = j + 1\n",
    "            \n",
    "    return X_indices"
   ]
  },
  {
   "cell_type": "markdown",
   "metadata": {},
   "source": [
    "#### Build embedding layer\n",
    "\n",
    "* Use pre-trained word vectors to build the `Embedding()` layer in Keras  \n",
    "* The embedding layer takes as input a list of word indices and returns the word embeddings for a sentence \n",
    "\n",
    "**`pretrained_embedding_layer() Overview`**\n",
    "\n",
    "`Creates a Keras Embedding() layer and loads in pre-trained GloVe 50-dimensional vectors.`\n",
    "\n",
    "**`Arguments`**\n",
    "```\n",
    "word_to_vec_map -- dictionary mapping words to their GloVe vector representation.\n",
    "word_to_index -- dictionary mapping from words to their indices in the vocabulary (400,001 words)\n",
    "```\n",
    "**`Returns`**\n",
    "```\n",
    "embedding_layer -- pretrained layer Keras instance\n",
    "```"
   ]
  },
  {
   "cell_type": "code",
   "execution_count": 20,
   "metadata": {
    "collapsed": true
   },
   "outputs": [],
   "source": [
    "def pretrained_embedding_layer(word_to_vec_map, word_to_index):\n",
    "    \n",
    "    vocab_len = len(word_to_index) + 1               # add 1 for unknown words\n",
    "    emb_dim = word_to_vec_map[\"cucumber\"].shape[0]   # define dimensionality of GloVe word vectors (50)\n",
    "    emb_matrix = np.zeros((vocab_len, emb_dim))      # initialize embedding matrix\n",
    "    \n",
    "    for word, idx in word_to_index.items():          # fill in each row with word vector representation\n",
    "        emb_matrix[idx, :] = word_to_vec_map[word]\n",
    "\n",
    "    embedding_layer = Embedding(vocab_len, emb_dim, trainable=False)  # define Keras embedding layer\n",
    "    embedding_layer.build((None,))                                    # build embedding layer  \n",
    "    embedding_layer.set_weights([emb_matrix])   # set weights of embedding layer to embedding matrix\n",
    "    \n",
    "    return embedding_layer"
   ]
  },
  {
   "cell_type": "markdown",
   "metadata": {},
   "source": [
    "## 2.3 Building the Emojifier-V2\n",
    "\n",
    "<img src=\"images/emojifier-v2.png\" style=\"width:700px;height:400px;\"> <br>\n",
    "<caption><center> **Figure 3**: Emojifier-v2. A 2-layer LSTM sequence classifier. </center></caption>\n",
    "\n",
    "**Input**: an array of sentences of shape (`m`, `max_len`, ) defined by `input_shape`.\n",
    "\n",
    "**Output**: a softmax probability vector of shape (`m`, `C = 5`). \n",
    "\n",
    "**`Emojify_V2() Overview`**\n",
    "\n",
    "`Function creating the Emojify-v2 model's graph.`\n",
    "\n",
    "**`Arguments`**\n",
    "```\n",
    "input_shape -- shape of the input, usually (max_len,)\n",
    "word_to_vec_map -- dictionary mapping every word in a vocabulary into its 50-dimensional vector representation\n",
    "word_to_index -- dictionary mapping from words to their indices in the vocabulary (400,001 words)\n",
    "```\n",
    "**`Returns`**\n",
    "```\n",
    "model -- a model instance in Keras\n",
    "```"
   ]
  },
  {
   "cell_type": "code",
   "execution_count": 22,
   "metadata": {
    "collapsed": true
   },
   "outputs": [],
   "source": [
    "def Emojify_V2(input_shape, word_to_vec_map, word_to_index):\n",
    "    \n",
    "    sentence_indices = Input(input_shape, dtype='int32') # define input\n",
    "    \n",
    "    embedding_layer = pretrained_embedding_layer(word_to_vec_map, word_to_index)  # create pretrained embedding layer\n",
    "    embeddings = embedding_layer(sentence_indices)     # propagate sentence_indices through embedding layer\n",
    "    \n",
    "    X = LSTM(units=128, return_sequences=True)(embeddings)  # LSTM layer with 128-dimensional hidden state\n",
    "    X = Dropout(0.5)(X)                                     # dropout (0.5)\n",
    "    X = LSTM(128, return_sequences=False)(X)                # LSTM layer with 128-dimensional hidden state\n",
    "    X = Dropout(0.5)(X)                                     # dropout (0.5)      \n",
    "    X = Dense(5)(X)                                         # 5 unit Dense layer\n",
    "    X = Activation('softmax')(X)                            # softmax\n",
    "    \n",
    "    model = Model(inputs=sentence_indices, outputs=X)       # convert sentence_indices into X\n",
    "    \n",
    "    return model"
   ]
  },
  {
   "cell_type": "code",
   "execution_count": 23,
   "metadata": {
    "scrolled": false
   },
   "outputs": [
    {
     "name": "stdout",
     "output_type": "stream",
     "text": [
      "_________________________________________________________________\n",
      "Layer (type)                 Output Shape              Param #   \n",
      "=================================================================\n",
      "input_1 (InputLayer)         (None, 10)                0         \n",
      "_________________________________________________________________\n",
      "embedding_2 (Embedding)      (None, 10, 50)            20000050  \n",
      "_________________________________________________________________\n",
      "lstm_1 (LSTM)                (None, 10, 128)           91648     \n",
      "_________________________________________________________________\n",
      "dropout_1 (Dropout)          (None, 10, 128)           0         \n",
      "_________________________________________________________________\n",
      "lstm_2 (LSTM)                (None, 128)               131584    \n",
      "_________________________________________________________________\n",
      "dropout_2 (Dropout)          (None, 128)               0         \n",
      "_________________________________________________________________\n",
      "dense_1 (Dense)              (None, 5)                 645       \n",
      "_________________________________________________________________\n",
      "activation_1 (Activation)    (None, 5)                 0         \n",
      "=================================================================\n",
      "Total params: 20,223,927\n",
      "Trainable params: 223,877\n",
      "Non-trainable params: 20,000,050\n",
      "_________________________________________________________________\n"
     ]
    }
   ],
   "source": [
    "model = Emojify_V2((maxLen,), word_to_vec_map, word_to_index)\n",
    "model.summary()"
   ]
  },
  {
   "cell_type": "code",
   "execution_count": 24,
   "metadata": {},
   "outputs": [
    {
     "name": "stdout",
     "output_type": "stream",
     "text": [
      "Epoch 1/50\n",
      "132/132 [==============================] - 0s - loss: 1.6083 - acc: 0.1970     \n",
      "Epoch 2/50\n",
      "132/132 [==============================] - 0s - loss: 1.5322 - acc: 0.2955     \n",
      "Epoch 3/50\n",
      "132/132 [==============================] - 0s - loss: 1.5008 - acc: 0.3258     \n",
      "Epoch 4/50\n",
      "132/132 [==============================] - 0s - loss: 1.4385 - acc: 0.3561     \n",
      "Epoch 5/50\n",
      "132/132 [==============================] - 0s - loss: 1.3470 - acc: 0.4545     \n",
      "Epoch 6/50\n",
      "132/132 [==============================] - 0s - loss: 1.2333 - acc: 0.5076     \n",
      "Epoch 7/50\n",
      "132/132 [==============================] - 0s - loss: 1.1759 - acc: 0.4470     \n",
      "Epoch 8/50\n",
      "132/132 [==============================] - 0s - loss: 1.0540 - acc: 0.5758     \n",
      "Epoch 9/50\n",
      "132/132 [==============================] - 0s - loss: 0.8766 - acc: 0.7121     \n",
      "Epoch 10/50\n",
      "132/132 [==============================] - 0s - loss: 0.8229 - acc: 0.6970     \n",
      "Epoch 11/50\n",
      "132/132 [==============================] - 0s - loss: 0.7027 - acc: 0.7500     \n",
      "Epoch 12/50\n",
      "132/132 [==============================] - 0s - loss: 0.6006 - acc: 0.8030     \n",
      "Epoch 13/50\n",
      "132/132 [==============================] - 0s - loss: 0.4936 - acc: 0.8333     \n",
      "Epoch 14/50\n",
      "132/132 [==============================] - 0s - loss: 0.5093 - acc: 0.8333     \n",
      "Epoch 15/50\n",
      "132/132 [==============================] - 0s - loss: 0.4789 - acc: 0.8258     \n",
      "Epoch 16/50\n",
      "132/132 [==============================] - 0s - loss: 0.3541 - acc: 0.8636     \n",
      "Epoch 17/50\n",
      "132/132 [==============================] - 0s - loss: 0.3905 - acc: 0.8636     \n",
      "Epoch 18/50\n",
      "132/132 [==============================] - 0s - loss: 0.6467 - acc: 0.8106     \n",
      "Epoch 19/50\n",
      "132/132 [==============================] - 0s - loss: 0.5176 - acc: 0.8182     \n",
      "Epoch 20/50\n",
      "132/132 [==============================] - 0s - loss: 0.3959 - acc: 0.8409     \n",
      "Epoch 21/50\n",
      "132/132 [==============================] - 0s - loss: 0.4724 - acc: 0.8182     \n",
      "Epoch 22/50\n",
      "132/132 [==============================] - 0s - loss: 0.3902 - acc: 0.8636     \n",
      "Epoch 23/50\n",
      "132/132 [==============================] - 0s - loss: 0.3801 - acc: 0.8561     \n",
      "Epoch 24/50\n",
      "132/132 [==============================] - 0s - loss: 0.3059 - acc: 0.9091     \n",
      "Epoch 25/50\n",
      "132/132 [==============================] - 0s - loss: 0.3494 - acc: 0.8864     \n",
      "Epoch 26/50\n",
      "132/132 [==============================] - 0s - loss: 0.2419 - acc: 0.9394     \n",
      "Epoch 27/50\n",
      "132/132 [==============================] - 0s - loss: 0.3179 - acc: 0.8864     \n",
      "Epoch 28/50\n",
      "132/132 [==============================] - 0s - loss: 0.2405 - acc: 0.9318     \n",
      "Epoch 29/50\n",
      "132/132 [==============================] - 0s - loss: 0.3944 - acc: 0.8712     \n",
      "Epoch 30/50\n",
      "132/132 [==============================] - 0s - loss: 0.2677 - acc: 0.9091     \n",
      "Epoch 31/50\n",
      "132/132 [==============================] - 0s - loss: 0.2956 - acc: 0.8864     \n",
      "Epoch 32/50\n",
      "132/132 [==============================] - 0s - loss: 0.2043 - acc: 0.9318     \n",
      "Epoch 33/50\n",
      "132/132 [==============================] - 0s - loss: 0.2121 - acc: 0.9470     \n",
      "Epoch 34/50\n",
      "132/132 [==============================] - 0s - loss: 0.1568 - acc: 0.9621     \n",
      "Epoch 35/50\n",
      "132/132 [==============================] - 0s - loss: 0.1637 - acc: 0.9621     \n",
      "Epoch 36/50\n",
      "132/132 [==============================] - 0s - loss: 0.1877 - acc: 0.9394     \n",
      "Epoch 37/50\n",
      "132/132 [==============================] - 0s - loss: 0.1767 - acc: 0.9470     \n",
      "Epoch 38/50\n",
      "132/132 [==============================] - 0s - loss: 0.2134 - acc: 0.9394     \n",
      "Epoch 39/50\n",
      "132/132 [==============================] - 0s - loss: 0.1388 - acc: 0.9621     \n",
      "Epoch 40/50\n",
      "132/132 [==============================] - 0s - loss: 0.1523 - acc: 0.9545     \n",
      "Epoch 41/50\n",
      "132/132 [==============================] - 0s - loss: 0.0871 - acc: 0.9848     \n",
      "Epoch 42/50\n",
      "132/132 [==============================] - 0s - loss: 0.0797 - acc: 0.9773     \n",
      "Epoch 43/50\n",
      "132/132 [==============================] - 0s - loss: 0.0800 - acc: 0.9848     \n",
      "Epoch 44/50\n",
      "132/132 [==============================] - 0s - loss: 0.0491 - acc: 0.9924     \n",
      "Epoch 45/50\n",
      "132/132 [==============================] - 0s - loss: 0.0791 - acc: 0.9848     \n",
      "Epoch 46/50\n",
      "132/132 [==============================] - 0s - loss: 0.1065 - acc: 0.9773     \n",
      "Epoch 47/50\n",
      "132/132 [==============================] - 0s - loss: 0.1503 - acc: 0.9470     \n",
      "Epoch 48/50\n",
      "132/132 [==============================] - 0s - loss: 0.3091 - acc: 0.9242     \n",
      "Epoch 49/50\n",
      "132/132 [==============================] - 0s - loss: 0.1175 - acc: 0.9848     \n",
      "Epoch 50/50\n",
      "132/132 [==============================] - 0s - loss: 0.1810 - acc: 0.9394     \n"
     ]
    },
    {
     "data": {
      "text/plain": [
       "<keras.callbacks.History at 0x7fbbce5c2ef0>"
      ]
     },
     "execution_count": 24,
     "metadata": {},
     "output_type": "execute_result"
    }
   ],
   "source": [
    "model.compile(loss='categorical_crossentropy', optimizer='adam', metrics=['accuracy']) # compile model\n",
    "\n",
    "X_train_indices = sentences_to_indices(X_train, word_to_index, maxLen)  # convert to indices\n",
    "Y_train_oh = convert_to_one_hot(Y_train, C = 5)                         # convert to one-hot\n",
    "\n",
    "model.fit(X_train_indices, Y_train_oh, epochs = 50, batch_size = 32, shuffle=True)  # fit"
   ]
  },
  {
   "cell_type": "code",
   "execution_count": 25,
   "metadata": {
    "scrolled": true
   },
   "outputs": [
    {
     "name": "stdout",
     "output_type": "stream",
     "text": [
      "32/56 [================>.............] - ETA: 0s\n",
      "Test accuracy =  0.821428562914\n"
     ]
    }
   ],
   "source": [
    "X_test_indices = sentences_to_indices(X_test, word_to_index, max_len = maxLen)\n",
    "Y_test_oh = convert_to_one_hot(Y_test, C = 5)\n",
    "loss, acc = model.evaluate(X_test_indices, Y_test_oh)\n",
    "print()\n",
    "print(\"Test accuracy = \", acc)"
   ]
  },
  {
   "cell_type": "code",
   "execution_count": 26,
   "metadata": {},
   "outputs": [
    {
     "name": "stdout",
     "output_type": "stream",
     "text": [
      "Expected emoji:😄 prediction: she got me a nice present\t❤️\n",
      "Expected emoji:😞 prediction: work is hard\t😄\n",
      "Expected emoji:😞 prediction: This girl is messing with me\t❤️\n",
      "Expected emoji:🍴 prediction: any suggestions for dinner\t😄\n",
      "Expected emoji:❤️ prediction: I love taking breaks\t😞\n",
      "Expected emoji:😄 prediction: you brighten my day\t❤️\n",
      "Expected emoji:😄 prediction: will you be my valentine\t❤️\n",
      "Expected emoji:🍴 prediction: See you at the restaurant\t😄\n",
      "Expected emoji:😞 prediction: go away\t⚾\n",
      "Expected emoji:🍴 prediction: I did not have breakfast ❤️\n"
     ]
    }
   ],
   "source": [
    "# mislabelled examples\n",
    "C = 5\n",
    "y_test_oh = np.eye(C)[Y_test.reshape(-1)]\n",
    "X_test_indices = sentences_to_indices(X_test, word_to_index, maxLen)\n",
    "pred = model.predict(X_test_indices)\n",
    "for i in range(len(X_test)):\n",
    "    x = X_test_indices\n",
    "    num = np.argmax(pred[i])\n",
    "    if(num != Y_test[i]):\n",
    "        print('Expected emoji:'+ label_to_emoji(Y_test[i]) + ' prediction: '+ X_test[i] + label_to_emoji(num).strip())"
   ]
  },
  {
   "cell_type": "code",
   "execution_count": 30,
   "metadata": {},
   "outputs": [
    {
     "name": "stdout",
     "output_type": "stream",
     "text": [
      "I do not like going outside 😞\n"
     ]
    }
   ],
   "source": [
    "x_test = np.array(['I do not like going outside'])\n",
    "X_test_indices = sentences_to_indices(x_test, word_to_index, maxLen)\n",
    "print(x_test[0] +' '+  label_to_emoji(np.argmax(model.predict(X_test_indices))))"
   ]
  }
 ],
 "metadata": {
  "coursera": {
   "course_slug": "nlp-sequence-models",
   "graded_item_id": "RNnEs",
   "launcher_item_id": "acNYU"
  },
  "kernelspec": {
   "display_name": "Python 3",
   "language": "python",
   "name": "python3"
  },
  "language_info": {
   "codemirror_mode": {
    "name": "ipython",
    "version": 3
   },
   "file_extension": ".py",
   "mimetype": "text/x-python",
   "name": "python",
   "nbconvert_exporter": "python",
   "pygments_lexer": "ipython3",
   "version": "3.6.0"
  }
 },
 "nbformat": 4,
 "nbformat_minor": 2
}
