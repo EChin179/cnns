{
  "nbformat": 4,
  "nbformat_minor": 0,
  "metadata": {
    "colab": {
      "name": "Regression.ipynb",
      "provenance": [],
      "collapsed_sections": [],
      "include_colab_link": true
    },
    "kernelspec": {
      "name": "python3",
      "display_name": "Python 3"
    }
  },
  "cells": [
    {
      "cell_type": "markdown",
      "metadata": {
        "id": "view-in-github",
        "colab_type": "text"
      },
      "source": [
        "<a href=\"https://colab.research.google.com/github/EChin179/machinelearning/blob/master/linear-regression.ipynb\" target=\"_parent\"><img src=\"https://colab.research.google.com/assets/colab-badge.svg\" alt=\"Open In Colab\"/></a>"
      ]
    },
    {
      "cell_type": "code",
      "metadata": {
        "id": "VX-eWaY38Pgj",
        "colab_type": "code",
        "colab": {}
      },
      "source": [
        "import numpy as np\n",
        "import matplotlib.pyplot as plt\n",
        "from keras.models import Sequential\n",
        "from keras.layers import Dense\n",
        "from keras.optimizers import Adam"
      ],
      "execution_count": 0,
      "outputs": []
    },
    {
      "cell_type": "code",
      "metadata": {
        "id": "Gzytg33u8Yu-",
        "colab_type": "code",
        "outputId": "f041c968-d025-4137-8c71-8ea57ba97e19",
        "colab": {
          "base_uri": "https://localhost:8080/",
          "height": 283
        }
      },
      "source": [
        "np.random.seed(0)\n",
        "points = 500\n",
        "X = np.linspace(-3, 3, points)\n",
        "y = np.sin(X) + np.random.uniform(-0.5, 0.5, points)\n",
        "\n",
        "plt.scatter(X, y)"
      ],
      "execution_count": 0,
      "outputs": [
        {
          "output_type": "execute_result",
          "data": {
            "text/plain": [
              "<matplotlib.collections.PathCollection at 0x7fa7358ec908>"
            ]
          },
          "metadata": {
            "tags": []
          },
          "execution_count": 11
        },
        {
          "output_type": "display_data",
          "data": {
            "image/png": "[encoded data removed]",
            "text/plain": [
              "<Figure size 432x288 with 1 Axes>"
            ]
          },
          "metadata": {
            "tags": []
          }
        }
      ]
    },
    {
      "cell_type": "code",
      "metadata": {
        "id": "6BaBwvTQ8hjy",
        "colab_type": "code",
        "colab": {}
      },
      "source": [
        "model = Sequential()\n",
        "model.add(Dense(units=50, activation='sigmoid', input_dim=1)) # 50 for the 50 nodes in the hidden layer\n",
        "model.add(Dense(30, activation='sigmoid'))\n",
        "model.add(Dense(1))"
      ],
      "execution_count": 0,
      "outputs": []
    },
    {
      "cell_type": "code",
      "metadata": {
        "id": "YEKhWNO-9bRA",
        "colab_type": "code",
        "outputId": "4ac974f5-cee9-47f0-c8e3-8d00e7775a2d",
        "colab": {
          "base_uri": "https://localhost:8080/",
          "height": 1000
        }
      },
      "source": [
        "adam = Adam(lr=0.01)\n",
        "model.compile(loss='mse', optimizer=adam)\n",
        "model.fit(X, y, epochs=50)"
      ],
      "execution_count": 0,
      "outputs": [
        {
          "output_type": "stream",
          "text": [
            "WARNING:tensorflow:From /usr/local/lib/python3.6/dist-packages/keras/optimizers.py:793: The name tf.train.Optimizer is deprecated. Please use tf.compat.v1.train.Optimizer instead.\n",
            "\n",
            "WARNING:tensorflow:From /usr/local/lib/python3.6/dist-packages/keras/backend/tensorflow_backend.py:1033: The name tf.assign_add is deprecated. Please use tf.compat.v1.assign_add instead.\n",
            "\n",
            "WARNING:tensorflow:From /usr/local/lib/python3.6/dist-packages/keras/backend/tensorflow_backend.py:1020: The name tf.assign is deprecated. Please use tf.compat.v1.assign instead.\n",
            "\n",
            "WARNING:tensorflow:From /usr/local/lib/python3.6/dist-packages/keras/backend/tensorflow_backend.py:3005: The name tf.Session is deprecated. Please use tf.compat.v1.Session instead.\n",
            "\n",
            "Epoch 1/50\n",
            "WARNING:tensorflow:From /usr/local/lib/python3.6/dist-packages/keras/backend/tensorflow_backend.py:190: The name tf.get_default_session is deprecated. Please use tf.compat.v1.get_default_session instead.\n",
            "\n",
            "WARNING:tensorflow:From /usr/local/lib/python3.6/dist-packages/keras/backend/tensorflow_backend.py:197: The name tf.ConfigProto is deprecated. Please use tf.compat.v1.ConfigProto instead.\n",
            "\n",
            "WARNING:tensorflow:From /usr/local/lib/python3.6/dist-packages/keras/backend/tensorflow_backend.py:207: The name tf.global_variables is deprecated. Please use tf.compat.v1.global_variables instead.\n",
            "\n",
            "WARNING:tensorflow:From /usr/local/lib/python3.6/dist-packages/keras/backend/tensorflow_backend.py:216: The name tf.is_variable_initialized is deprecated. Please use tf.compat.v1.is_variable_initialized instead.\n",
            "\n",
            "WARNING:tensorflow:From /usr/local/lib/python3.6/dist-packages/keras/backend/tensorflow_backend.py:223: The name tf.variables_initializer is deprecated. Please use tf.compat.v1.variables_initializer instead.\n",
            "\n",
            "500/500 [==============================] - 1s 2ms/step - loss: 0.4467\n",
            "Epoch 2/50\n",
            "500/500 [==============================] - 0s 51us/step - loss: 0.2371\n",
            "Epoch 3/50\n",
            "500/500 [==============================] - 0s 54us/step - loss: 0.2666\n",
            "Epoch 4/50\n",
            "500/500 [==============================] - 0s 44us/step - loss: 0.2272\n",
            "Epoch 5/50\n",
            "500/500 [==============================] - 0s 43us/step - loss: 0.2287\n",
            "Epoch 6/50\n",
            "500/500 [==============================] - 0s 44us/step - loss: 0.2269\n",
            "Epoch 7/50\n",
            "500/500 [==============================] - 0s 55us/step - loss: 0.2205\n",
            "Epoch 8/50\n",
            "500/500 [==============================] - 0s 55us/step - loss: 0.2226\n",
            "Epoch 9/50\n",
            "500/500 [==============================] - 0s 42us/step - loss: 0.2092\n",
            "Epoch 10/50\n",
            "500/500 [==============================] - 0s 44us/step - loss: 0.1929\n",
            "Epoch 11/50\n",
            "500/500 [==============================] - 0s 47us/step - loss: 0.1932\n",
            "Epoch 12/50\n",
            "500/500 [==============================] - 0s 51us/step - loss: 0.1802\n",
            "Epoch 13/50\n",
            "500/500 [==============================] - 0s 46us/step - loss: 0.1707\n",
            "Epoch 14/50\n",
            "500/500 [==============================] - 0s 47us/step - loss: 0.1599\n",
            "Epoch 15/50\n",
            "500/500 [==============================] - 0s 44us/step - loss: 0.1578\n",
            "Epoch 16/50\n",
            "500/500 [==============================] - 0s 58us/step - loss: 0.1466\n",
            "Epoch 17/50\n",
            "500/500 [==============================] - 0s 48us/step - loss: 0.1399\n",
            "Epoch 18/50\n",
            "500/500 [==============================] - 0s 49us/step - loss: 0.1324\n",
            "Epoch 19/50\n",
            "500/500 [==============================] - 0s 52us/step - loss: 0.1232\n",
            "Epoch 20/50\n",
            "500/500 [==============================] - 0s 53us/step - loss: 0.1280\n",
            "Epoch 21/50\n",
            "500/500 [==============================] - 0s 42us/step - loss: 0.1185\n",
            "Epoch 22/50\n",
            "500/500 [==============================] - 0s 41us/step - loss: 0.1171\n",
            "Epoch 23/50\n",
            "500/500 [==============================] - 0s 47us/step - loss: 0.1185\n",
            "Epoch 24/50\n",
            "500/500 [==============================] - 0s 62us/step - loss: 0.1180\n",
            "Epoch 25/50\n",
            "500/500 [==============================] - 0s 47us/step - loss: 0.1116\n",
            "Epoch 26/50\n",
            "500/500 [==============================] - 0s 45us/step - loss: 0.1080\n",
            "Epoch 27/50\n",
            "500/500 [==============================] - 0s 55us/step - loss: 0.1114\n",
            "Epoch 28/50\n",
            "500/500 [==============================] - 0s 54us/step - loss: 0.1244\n",
            "Epoch 29/50\n",
            "500/500 [==============================] - 0s 41us/step - loss: 0.1238\n",
            "Epoch 30/50\n",
            "500/500 [==============================] - 0s 43us/step - loss: 0.1130\n",
            "Epoch 31/50\n",
            "500/500 [==============================] - 0s 89us/step - loss: 0.1077\n",
            "Epoch 32/50\n",
            "500/500 [==============================] - 0s 51us/step - loss: 0.1145\n",
            "Epoch 33/50\n",
            "500/500 [==============================] - 0s 50us/step - loss: 0.1082\n",
            "Epoch 34/50\n",
            "500/500 [==============================] - 0s 53us/step - loss: 0.1111\n",
            "Epoch 35/50\n",
            "500/500 [==============================] - 0s 48us/step - loss: 0.1046\n",
            "Epoch 36/50\n",
            "500/500 [==============================] - 0s 52us/step - loss: 0.1090\n",
            "Epoch 37/50\n",
            "500/500 [==============================] - 0s 45us/step - loss: 0.1068\n",
            "Epoch 38/50\n",
            "500/500 [==============================] - 0s 49us/step - loss: 0.1056\n",
            "Epoch 39/50\n",
            "500/500 [==============================] - 0s 51us/step - loss: 0.1051\n",
            "Epoch 40/50\n",
            "500/500 [==============================] - 0s 52us/step - loss: 0.1047\n",
            "Epoch 41/50\n",
            "500/500 [==============================] - 0s 46us/step - loss: 0.1152\n",
            "Epoch 42/50\n",
            "500/500 [==============================] - 0s 55us/step - loss: 0.1032\n",
            "Epoch 43/50\n",
            "500/500 [==============================] - 0s 46us/step - loss: 0.1033\n",
            "Epoch 44/50\n",
            "500/500 [==============================] - 0s 48us/step - loss: 0.1059\n",
            "Epoch 45/50\n",
            "500/500 [==============================] - 0s 45us/step - loss: 0.1020\n",
            "Epoch 46/50\n",
            "500/500 [==============================] - 0s 56us/step - loss: 0.1018\n",
            "Epoch 47/50\n",
            "500/500 [==============================] - 0s 57us/step - loss: 0.1125\n",
            "Epoch 48/50\n",
            "500/500 [==============================] - 0s 49us/step - loss: 0.1088\n",
            "Epoch 49/50\n",
            "500/500 [==============================] - 0s 59us/step - loss: 0.1048\n",
            "Epoch 50/50\n",
            "500/500 [==============================] - 0s 46us/step - loss: 0.1083\n"
          ],
          "name": "stdout"
        },
        {
          "output_type": "execute_result",
          "data": {
            "text/plain": [
              "<keras.callbacks.History at 0x7fa7419bc550>"
            ]
          },
          "metadata": {
            "tags": []
          },
          "execution_count": 15
        }
      ]
    },
    {
      "cell_type": "code",
      "metadata": {
        "id": "TAahcTph9-to",
        "colab_type": "code",
        "outputId": "cd2775a4-c435-4f13-d38e-cd3c43653fb5",
        "colab": {
          "base_uri": "https://localhost:8080/",
          "height": 283
        }
      },
      "source": [
        "predictions = model.predict(X)\n",
        "plt.scatter(X, y)\n",
        "plt.plot(X, predictions, 'ro')"
      ],
      "execution_count": 0,
      "outputs": [
        {
          "output_type": "execute_result",
          "data": {
            "text/plain": [
              "[<matplotlib.lines.Line2D at 0x7fa7301b2748>]"
            ]
          },
          "metadata": {
            "tags": []
          },
          "execution_count": 19
        },
        {
          "output_type": "display_data",
          "data": {
            "image/png": "[encoded data removed]",
            "text/plain": [
              "<Figure size 432x288 with 1 Axes>"
            ]
          },
          "metadata": {
            "tags": []
          }
        }
      ]
    },
    {
      "cell_type": "code",
      "metadata": {
        "id": "ET1T4VlX-LqA",
        "colab_type": "code",
        "colab": {}
      },
      "source": [
        ""
      ],
      "execution_count": 0,
      "outputs": []
    }
  ]
}