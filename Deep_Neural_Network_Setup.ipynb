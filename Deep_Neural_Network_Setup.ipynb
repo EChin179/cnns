{
  "nbformat": 4,
  "nbformat_minor": 0,
  "metadata": {
    "colab": {
      "name": "Deep Neural Network Setup.ipynb",
      "provenance": [],
      "collapsed_sections": [],
      "include_colab_link": true
    },
    "kernelspec": {
      "name": "python3",
      "display_name": "Python 3"
    },
    "accelerator": "GPU"
  },
  "cells": [
    {
      "cell_type": "markdown",
      "metadata": {
        "id": "view-in-github",
        "colab_type": "text"
      },
      "source": [
        "<a href=\"https://colab.research.google.com/github/EChin179/machinelearning/blob/master/Deep_Neural_Network_Setup.ipynb\" target=\"_parent\"><img src=\"https://colab.research.google.com/assets/colab-badge.svg\" alt=\"Open In Colab\"/></a>"
      ]
    },
    {
      "cell_type": "code",
      "metadata": {
        "id": "sSEpQCbJWLVS",
        "colab_type": "code",
        "outputId": "65c178cb-8b4f-428f-d79d-c26987e2d6a2",
        "colab": {
          "base_uri": "https://localhost:8080/",
          "height": 51
        }
      },
      "source": [
        "import time\n",
        "import numpy as np\n",
        "import scipy\n",
        "from scipy import ndimage\n",
        "import h5py # interact with a dataset on an H5 file\n",
        "import matplotlib.pyplot as plt\n",
        "import tensorflow as tf\n",
        "from PIL import Image\n",
        "\n",
        "%matplotlib inline\n",
        "plt.rcParams['figure.figsize'] = (5.0, 4.0) # set default size of plots\n",
        "plt.rcParams['image.interpolation'] = 'nearest'\n",
        "plt.rcParams['image.cmap'] = 'gray'\n",
        "\n",
        "%load_ext autoreload\n",
        "%autoreload 2\n",
        "\n",
        "np.random.seed(1)"
      ],
      "execution_count": 73,
      "outputs": [
        {
          "output_type": "stream",
          "text": [
            "The autoreload extension is already loaded. To reload it, use:\n",
            "  %reload_ext autoreload\n"
          ],
          "name": "stdout"
        }
      ]
    },
    {
      "cell_type": "code",
      "metadata": {
        "id": "YCM3WY0dWS--",
        "colab_type": "code",
        "colab": {}
      },
      "source": [
        "\"\"\" FUNCTIONS \"\"\"\n",
        "\n",
        "# INITALIZE PARAMETERS\n",
        "def initialize_parameters(layer_dims):\n",
        "    parameters = {}\n",
        "    L = len(layer_dims) # number of layers in network\n",
        "\n",
        "    for l in range(1, L):\n",
        "        parameters['W' + str(l)] = np.random.randn(layer_dims[l], layer_dims[l-1]) * 0.01\n",
        "        parameters['b' + str(l)] = np.zeros((layer_dims[l], 1))\n",
        "\n",
        "        assert(parameters['W' + str(l)].shape == (layer_dims[l], layer_dims[l-1]))\n",
        "        assert(parameters['b' + str(l)].shape == (layer_dims[l], 1))\n",
        "    \n",
        "    return parameters\n",
        "\n",
        "# 1 STEP OF FORWARD PROPAGATION \n",
        "def linear_activation_forward(A_prev, W, b, activation):\n",
        "    if activation == 'sigmoid':\n",
        "        Z = np.dot(W, A_prev) + b\n",
        "        A = 1 / (1 + np.exp(-Z))\n",
        "    elif activation == 'relu':\n",
        "        Z = np.dot(W, A_prev) + b\n",
        "        A = max(Z, 0)\n",
        "        # A[Z <= 0] = 0\n",
        "\n",
        "    cache = (A_prev, W, b, Z)\n",
        "    assert (A.shape == (W.shape[0], A_prev.shape[1]))\n",
        "\n",
        "    return A, cache\n",
        "\n",
        "# FORWARD PROPAGATION \n",
        "def L_model_forward(X, parameters):\n",
        "    # Forward propagation for [Linear > Relu] * (L-1) --> [Linear > Sigmoid]\n",
        "    caches = []\n",
        "    A = X\n",
        "    L = len(parameters) // 2 # number of layers in network\n",
        "\n",
        "    for l in range(1, L):\n",
        "        A_prev = A\n",
        "        A, cache = linear_activation_forward(A_prev, parameters['W' + str(l)], parameters['b' + str(l)], 'relu')\n",
        "        caches.append(cache)\n",
        "\n",
        "    AL, cache = linear_activation_forward(A, parameters['W' + str(L)], parameters['b' + str(L)], 'sigmoid')\n",
        "    caches.append(cache)\n",
        "\n",
        "    assert(AL.shape == (1,X.shape[1]))\n",
        "    return AL, caches\n",
        "\n",
        "# COMPUTE COST \n",
        "def compute_cost(AL, Y):\n",
        "    # Compute cost\n",
        "    m = Y.shape[1]\n",
        "    cost = (-1/m) * np.sum(Y*np.log(AL) + (1-Y)*np.log(1-AL))\n",
        "    cost = np.squeeze(cost)\n",
        "\n",
        "    assert(cost.shape == ())\n",
        "    return cost\n",
        "\n",
        "# 1 STEP OF BACK PROPAGATION \n",
        "def linear_activation_backward(dA, cache, activation):\n",
        "    # Implement the backward propagation for the LINEAR > ACTIVATION layer\n",
        "    A_prev, W, b, Z = cache\n",
        "    m = A_prev.shape[1]\n",
        "\n",
        "    if activation == 'relu':\n",
        "        dZ = np.array(dA, copy=True) \n",
        "        dZ[Z <= 0] = 0\n",
        "    elif activation == 'sigmoid':\n",
        "        s = 1/(1+np.exp(-Z))\n",
        "        dZ = dA * s * (1-s)\n",
        "\n",
        "    dW = (1/m)*np.dot(dZ, A_prev.T)\n",
        "    db = (1/m) * np.sum(dZ, axis=1, keepdims=True) # summing over all training examples\n",
        "    dA_prev = np.dot(W.T, dZ)\n",
        "\n",
        "    assert (dA_prev.shape == A_prev.shape)\n",
        "    assert (dW.shape == W.shape)\n",
        "    assert (db.shape == b.shape)\n",
        "    assert (dZ.shape == Z.shape)\n",
        "\n",
        "    return dA_prev, dW, db\n",
        "\n",
        "# BACK PROPAGATION \n",
        "def L_model_backward(AL, Y, caches):\n",
        "    # Implement the backward propagation for the [LINEAR > RELU] * (L-1) --> LINEAR > SIGMOID group\n",
        "    grads = {}\n",
        "    L = len(caches)\n",
        "    m = AL.shape[1]\n",
        "    Y = Y.reshape(AL.shape) # Y converts to become the same shape as AL\n",
        "    \n",
        "    # initialize back propagation with last layer L\n",
        "    dAL = - (np.divide(Y, AL) - np.divide(1 - Y, 1 - AL))\n",
        "    current_cache = caches[L-1]\n",
        "    grads[\"dA\" + str(L-1)], grads[\"dW\" + str(L)], grads[\"db\" + str(L)] = linear_activation_backward(dAL, current_cache, 'sigmoid')\n",
        "    \n",
        "    for l in reversed(range(1, L)): # loop from L-1 to 1. find RELU > LINEAR gradients.\n",
        "        current_cache = caches[l - 1]\n",
        "        dA_prev_temp, dW_temp, db_temp = linear_activation_backward(grads[\"dA\" + str(l)], current_cache, 'relu')\n",
        "        grads[\"dA\" + str(l - 1)] = dA_prev_temp\n",
        "        grads[\"dW\" + str(l)] = dW_temp\n",
        "        grads[\"db\" + str(l)] = db_temp\n",
        "\n",
        "    return grads\n",
        "\n",
        "# UPDATE PARAMETERS\n",
        "def update_parameters(parameters, grads, learning_rate):\n",
        "    L = len(parameters) // 2 # number of layers in network\n",
        "\n",
        "    for l in range(1, L+1): # loop from 1 to L\n",
        "        parameters[\"W\" + str(l)] = parameters[\"W\" + str(l)] - learning_rate * grads[\"dW\" + str(l)]\n",
        "        parameters[\"b\" + str(l)] = parameters[\"b\" + str(l)] - learning_rate * grads[\"db\" + str(l)]\n",
        "\n",
        "    return parameters"
      ],
      "execution_count": 0,
      "outputs": []
    },
    {
      "cell_type": "code",
      "metadata": {
        "id": "jsFzu6kbb78O",
        "colab_type": "code",
        "colab": {}
      },
      "source": [
        ""
      ],
      "execution_count": 0,
      "outputs": []
    }
  ]
}