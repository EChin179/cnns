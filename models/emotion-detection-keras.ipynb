{
 "cells": [
  {
   "cell_type": "markdown",
   "metadata": {},
   "source": [
    "# Emotion Detection in Images of Faces (Keras)\n",
    "\n",
    "**Keras** is a high-level neural networks API (programming framework), capable of running on top of lower-level frameworks including TensorFlow and CNTK. It is a good tool for rapid prototyping, allowing you to quickly try out different model architectures."
   ]
  },
  {
   "cell_type": "markdown",
   "metadata": {},
   "source": [
    "## Packages"
   ]
  },
  {
   "cell_type": "code",
   "execution_count": 1,
   "metadata": {},
   "outputs": [
    {
     "name": "stderr",
     "output_type": "stream",
     "text": [
      "Using TensorFlow backend.\n"
     ]
    }
   ],
   "source": [
    "import numpy as np\n",
    "from keras import layers\n",
    "from keras.layers import Input, Dense, Activation, ZeroPadding2D, BatchNormalization, Flatten, Conv2D\n",
    "from keras.layers import AveragePooling2D, MaxPooling2D, Dropout, GlobalMaxPooling2D, GlobalAveragePooling2D\n",
    "from keras.models import Model\n",
    "from keras.preprocessing import image\n",
    "from keras.utils import layer_utils\n",
    "from keras.utils.data_utils import get_file\n",
    "from keras.applications.imagenet_utils import preprocess_input\n",
    "import pydot\n",
    "from IPython.display import SVG\n",
    "from keras.utils.vis_utils import model_to_dot\n",
    "from keras.utils import plot_model\n",
    "from kt_utils import *\n",
    "\n",
    "import keras.backend as K\n",
    "K.set_image_data_format('channels_last')\n",
    "import matplotlib.pyplot as plt\n",
    "from matplotlib.pyplot import imshow\n",
    "\n",
    "%matplotlib inline"
   ]
  },
  {
   "cell_type": "markdown",
   "metadata": {},
   "source": [
    "## 1. Emotion Tracking\n",
    "\n",
    "Classify emotions based on pictures of facial expressions. We first train the model to detect if someone is \"happy\" or \"not happy.\""
   ]
  },
  {
   "cell_type": "code",
   "execution_count": 2,
   "metadata": {},
   "outputs": [
    {
     "name": "stdout",
     "output_type": "stream",
     "text": [
      "number of training examples = 600\n",
      "number of test examples = 150\n",
      "X_train shape: (600, 64, 64, 3)\n",
      "Y_train shape: (600, 1)\n",
      "X_test shape: (150, 64, 64, 3)\n",
      "Y_test shape: (150, 1)\n"
     ]
    }
   ],
   "source": [
    "X_train_orig, Y_train_orig, X_test_orig, Y_test_orig, classes = load_dataset()\n",
    "\n",
    "# Normalize image vectors\n",
    "X_train = X_train_orig/255.\n",
    "X_test = X_test_orig/255.\n",
    "\n",
    "# Reshape\n",
    "Y_train = Y_train_orig.T\n",
    "Y_test = Y_test_orig.T\n",
    "\n",
    "print (\"number of training examples = \" + str(X_train.shape[0]))\n",
    "print (\"number of test examples = \" + str(X_test.shape[0]))\n",
    "print (\"X_train shape: \" + str(X_train.shape))\n",
    "print (\"Y_train shape: \" + str(Y_train.shape))\n",
    "print (\"X_test shape: \" + str(X_test.shape))\n",
    "print (\"Y_test shape: \" + str(Y_test.shape))"
   ]
  },
  {
   "cell_type": "markdown",
   "metadata": {},
   "source": [
    "## 2. Building a Model in Keras\n",
    "\n",
    "**Variable naming convention** -- Keras tends to re-use and overwrite the same variable at each step.\n",
    "\n",
    "**Objects as Functions** \n",
    "\n",
    "There are two pairs of parentheses in each statement, where the first is a constructor call that creates an object (ZeroPadding2D).\n",
    "\n",
    "`X = ZeroPadding2D((3, 3))(X_input)` is equivalent to:\n",
    "```\n",
    "ZP = ZeroPadding2D((3, 3)) # ZP is an object that can be called as a function\n",
    "X = ZP(X_input) \n",
    "```\n",
    "\n",
    "`input_shape -- (height, width, channels)`"
   ]
  },
  {
   "cell_type": "code",
   "execution_count": 10,
   "metadata": {
    "collapsed": true
   },
   "outputs": [],
   "source": [
    "def HappyModel(input_shape):  \n",
    "    \n",
    "    X_input = Input(input_shape)                                       # define input placeholder with input_shape\n",
    "    X = ZeroPadding2D((3, 3))(X_input)                                 # zero-padding of X_input\n",
    "    \n",
    "    # CONV > BN > RELU Block\n",
    "    X = Conv2D(32, (7, 7), strides = (1, 1), name = 'conv0')(X)\n",
    "    X = BatchNormalization(axis = 3, name = 'bn0')(X)\n",
    "    X = Activation('relu')(X)\n",
    "\n",
    "    # MAXPOOL\n",
    "    X = MaxPooling2D((2, 2), name='max_pool')(X)\n",
    "\n",
    "    # FLATTEN > FULLYCONNECTED\n",
    "    X = Flatten()(X)\n",
    "    X = Dense(1, activation='sigmoid', name='fc')(X)\n",
    "\n",
    "    # Create Keras model instance, used to train/test the model\n",
    "    model = Model(inputs = X_input, outputs = X, name='HappyModel')\n",
    "    \n",
    "    return model"
   ]
  },
  {
   "cell_type": "markdown",
   "metadata": {},
   "source": [
    "To train and test this model in Keras, there are four steps:\n",
    "1. Create the model: call the function above \n",
    "2. Compile the model: call `model.compile(optimizer = \"...\", loss = \"...\", metrics = [\"accuracy\"])`  \n",
    "3. Train the model: call `model.fit(x = ..., y = ..., epochs = ..., batch_size = ...)`  \n",
    "4. Test the model: call `model.evaluate(x = ..., y = ...)`  "
   ]
  },
  {
   "cell_type": "code",
   "execution_count": 12,
   "metadata": {},
   "outputs": [
    {
     "name": "stdout",
     "output_type": "stream",
     "text": [
      "Epoch 1/40\n",
      "600/600 [==============================] - 12s - loss: 0.9568 - acc: 0.7100    \n",
      "Epoch 2/40\n",
      "600/600 [==============================] - 12s - loss: 0.2070 - acc: 0.9217    \n",
      "Epoch 3/40\n",
      "600/600 [==============================] - 12s - loss: 0.2112 - acc: 0.9267    \n",
      "Epoch 4/40\n",
      "600/600 [==============================] - 12s - loss: 0.1480 - acc: 0.9450    \n",
      "Epoch 5/40\n",
      "600/600 [==============================] - 12s - loss: 0.0784 - acc: 0.9733    \n",
      "Epoch 6/40\n",
      "600/600 [==============================] - 12s - loss: 0.0924 - acc: 0.9767    \n",
      "Epoch 7/40\n",
      "600/600 [==============================] - 12s - loss: 0.1050 - acc: 0.9650    \n",
      "Epoch 8/40\n",
      "600/600 [==============================] - 12s - loss: 0.0900 - acc: 0.9633    \n",
      "Epoch 9/40\n",
      "600/600 [==============================] - 12s - loss: 0.1072 - acc: 0.9617    \n",
      "Epoch 10/40\n",
      "600/600 [==============================] - 12s - loss: 0.0738 - acc: 0.9733    \n",
      "Epoch 11/40\n",
      "600/600 [==============================] - 12s - loss: 0.1012 - acc: 0.9633    \n",
      "Epoch 12/40\n",
      "600/600 [==============================] - 12s - loss: 0.1064 - acc: 0.9683    \n",
      "Epoch 13/40\n",
      "600/600 [==============================] - 12s - loss: 0.0335 - acc: 0.9917    \n",
      "Epoch 14/40\n",
      "600/600 [==============================] - 12s - loss: 0.0395 - acc: 0.9867    \n",
      "Epoch 15/40\n",
      "600/600 [==============================] - 12s - loss: 0.0674 - acc: 0.9800    \n",
      "Epoch 16/40\n",
      "600/600 [==============================] - 12s - loss: 0.0553 - acc: 0.9800    \n",
      "Epoch 17/40\n",
      "600/600 [==============================] - 12s - loss: 0.0594 - acc: 0.9850    \n",
      "Epoch 18/40\n",
      "600/600 [==============================] - 12s - loss: 0.0690 - acc: 0.9800    \n",
      "Epoch 19/40\n",
      "600/600 [==============================] - 12s - loss: 0.1039 - acc: 0.9617    \n",
      "Epoch 20/40\n",
      "600/600 [==============================] - 12s - loss: 0.0344 - acc: 0.9867    \n",
      "Epoch 21/40\n",
      "600/600 [==============================] - 12s - loss: 0.0231 - acc: 0.9917    \n",
      "Epoch 22/40\n",
      "600/600 [==============================] - 12s - loss: 0.0414 - acc: 0.9900    \n",
      "Epoch 23/40\n",
      "600/600 [==============================] - 12s - loss: 0.0192 - acc: 0.9967    \n",
      "Epoch 24/40\n",
      "600/600 [==============================] - 12s - loss: 0.0689 - acc: 0.9717    \n",
      "Epoch 25/40\n",
      "600/600 [==============================] - 12s - loss: 0.1250 - acc: 0.9633    \n",
      "Epoch 26/40\n",
      "600/600 [==============================] - 12s - loss: 0.0766 - acc: 0.9717    \n",
      "Epoch 27/40\n",
      "600/600 [==============================] - 12s - loss: 0.0689 - acc: 0.9833    \n",
      "Epoch 28/40\n",
      "600/600 [==============================] - 12s - loss: 0.1228 - acc: 0.9667    \n",
      "Epoch 29/40\n",
      "600/600 [==============================] - 12s - loss: 0.0470 - acc: 0.9850    \n",
      "Epoch 30/40\n",
      "600/600 [==============================] - 12s - loss: 0.0290 - acc: 0.9883    \n",
      "Epoch 31/40\n",
      "600/600 [==============================] - 12s - loss: 0.1515 - acc: 0.9617    \n",
      "Epoch 32/40\n",
      "600/600 [==============================] - 12s - loss: 0.0313 - acc: 0.9867    \n",
      "Epoch 33/40\n",
      "600/600 [==============================] - 12s - loss: 0.0257 - acc: 0.9900    \n",
      "Epoch 34/40\n",
      "600/600 [==============================] - 12s - loss: 0.0273 - acc: 0.9883    \n",
      "Epoch 35/40\n",
      "600/600 [==============================] - 12s - loss: 0.0121 - acc: 0.9967    \n",
      "Epoch 36/40\n",
      "600/600 [==============================] - 12s - loss: 0.0462 - acc: 0.9817    \n",
      "Epoch 37/40\n",
      "600/600 [==============================] - 12s - loss: 0.0744 - acc: 0.9733    \n",
      "Epoch 38/40\n",
      "600/600 [==============================] - 12s - loss: 0.0537 - acc: 0.9800    \n",
      "Epoch 39/40\n",
      "600/600 [==============================] - 12s - loss: 0.0354 - acc: 0.9883    \n",
      "Epoch 40/40\n",
      "600/600 [==============================] - 12s - loss: 0.0863 - acc: 0.9733    \n",
      "150/150 [==============================] - 1s     \n",
      "\n",
      "Loss = 0.0751345592737\n",
      "Test Accuracy = 0.973333330949\n"
     ]
    }
   ],
   "source": [
    "happyModel = HappyModel(X_train.shape[1:])                                                 # create the model\n",
    "happyModel.compile(optimizer='adam', loss='binary_crossentropy', metrics=['accuracy'])     # compile the model\n",
    "happyModel.fit(x=X_train, y=Y_train, epochs=40, batch_size=16)                             # train the model\n",
    "preds = happyModel.evaluate(x=X_test, y=Y_test)                                            # evaluate the model\n",
    "print()\n",
    "print (\"Loss = \" + str(preds[0]))\n",
    "print (\"Test Accuracy = \" + str(preds[1]))"
   ]
  },
  {
   "cell_type": "code",
   "execution_count": 13,
   "metadata": {
    "scrolled": false
   },
   "outputs": [
    {
     "name": "stdout",
     "output_type": "stream",
     "text": [
      "_________________________________________________________________\n",
      "Layer (type)                 Output Shape              Param #   \n",
      "=================================================================\n",
      "input_3 (InputLayer)         (None, 64, 64, 3)         0         \n",
      "_________________________________________________________________\n",
      "zero_padding2d_3 (ZeroPaddin (None, 70, 70, 3)         0         \n",
      "_________________________________________________________________\n",
      "conv0 (Conv2D)               (None, 64, 64, 32)        4736      \n",
      "_________________________________________________________________\n",
      "bn0 (BatchNormalization)     (None, 64, 64, 32)        128       \n",
      "_________________________________________________________________\n",
      "activation_3 (Activation)    (None, 64, 64, 32)        0         \n",
      "_________________________________________________________________\n",
      "max_pool (MaxPooling2D)      (None, 32, 32, 32)        0         \n",
      "_________________________________________________________________\n",
      "flatten_3 (Flatten)          (None, 32768)             0         \n",
      "_________________________________________________________________\n",
      "fc (Dense)                   (None, 1)                 32769     \n",
      "=================================================================\n",
      "Total params: 37,633\n",
      "Trainable params: 37,569\n",
      "Non-trainable params: 64\n",
      "_________________________________________________________________\n"
     ]
    }
   ],
   "source": [
    "happyModel.summary()"
   ]
  },
  {
   "cell_type": "code",
   "execution_count": 14,
   "metadata": {},
   "outputs": [
    {
     "data": {
      "image/svg+xml": [
       "<svg height=\"556pt\" viewBox=\"0.00 0.00 219.00 556.00\" width=\"219pt\" xmlns=\"http://www.w3.org/2000/svg\" xmlns:xlink=\"http://www.w3.org/1999/xlink\">\n",
       "<g class=\"graph\" id=\"graph0\" transform=\"scale(1 1) rotate(0) translate(4 552)\">\n",
       "<title>G</title>\n",
       "<polygon fill=\"white\" points=\"-4,4 -4,-552 215,-552 215,4 -4,4\" stroke=\"none\"/>\n",
       "<!-- 139891623324808 -->\n",
       "<g class=\"node\" id=\"node1\"><title>139891623324808</title>\n",
       "<polygon fill=\"none\" points=\"43,-511.5 43,-547.5 168,-547.5 168,-511.5 43,-511.5\" stroke=\"black\"/>\n",
       "<text font-family=\"Times,serif\" font-size=\"14.00\" text-anchor=\"middle\" x=\"105.5\" y=\"-525.8\">input_3: InputLayer</text>\n",
       "</g>\n",
       "<!-- 139891623325480 -->\n",
       "<g class=\"node\" id=\"node2\"><title>139891623325480</title>\n",
       "<polygon fill=\"none\" points=\"0,-438.5 0,-474.5 211,-474.5 211,-438.5 0,-438.5\" stroke=\"black\"/>\n",
       "<text font-family=\"Times,serif\" font-size=\"14.00\" text-anchor=\"middle\" x=\"105.5\" y=\"-452.8\">zero_padding2d_3: ZeroPadding2D</text>\n",
       "</g>\n",
       "<!-- 139891623324808&#45;&gt;139891623325480 -->\n",
       "<g class=\"edge\" id=\"edge1\"><title>139891623324808-&gt;139891623325480</title>\n",
       "<path d=\"M105.5,-511.313C105.5,-503.289 105.5,-493.547 105.5,-484.569\" fill=\"none\" stroke=\"black\"/>\n",
       "<polygon fill=\"black\" points=\"109,-484.529 105.5,-474.529 102,-484.529 109,-484.529\" stroke=\"black\"/>\n",
       "</g>\n",
       "<!-- 139891623325088 -->\n",
       "<g class=\"node\" id=\"node3\"><title>139891623325088</title>\n",
       "<polygon fill=\"none\" points=\"54,-365.5 54,-401.5 157,-401.5 157,-365.5 54,-365.5\" stroke=\"black\"/>\n",
       "<text font-family=\"Times,serif\" font-size=\"14.00\" text-anchor=\"middle\" x=\"105.5\" y=\"-379.8\">conv0: Conv2D</text>\n",
       "</g>\n",
       "<!-- 139891623325480&#45;&gt;139891623325088 -->\n",
       "<g class=\"edge\" id=\"edge2\"><title>139891623325480-&gt;139891623325088</title>\n",
       "<path d=\"M105.5,-438.313C105.5,-430.289 105.5,-420.547 105.5,-411.569\" fill=\"none\" stroke=\"black\"/>\n",
       "<polygon fill=\"black\" points=\"109,-411.529 105.5,-401.529 102,-411.529 109,-411.529\" stroke=\"black\"/>\n",
       "</g>\n",
       "<!-- 139891616463840 -->\n",
       "<g class=\"node\" id=\"node4\"><title>139891616463840</title>\n",
       "<polygon fill=\"none\" points=\"28,-292.5 28,-328.5 183,-328.5 183,-292.5 28,-292.5\" stroke=\"black\"/>\n",
       "<text font-family=\"Times,serif\" font-size=\"14.00\" text-anchor=\"middle\" x=\"105.5\" y=\"-306.8\">bn0: BatchNormalization</text>\n",
       "</g>\n",
       "<!-- 139891623325088&#45;&gt;139891616463840 -->\n",
       "<g class=\"edge\" id=\"edge3\"><title>139891623325088-&gt;139891616463840</title>\n",
       "<path d=\"M105.5,-365.313C105.5,-357.289 105.5,-347.547 105.5,-338.569\" fill=\"none\" stroke=\"black\"/>\n",
       "<polygon fill=\"black\" points=\"109,-338.529 105.5,-328.529 102,-338.529 109,-338.529\" stroke=\"black\"/>\n",
       "</g>\n",
       "<!-- 139891623349776 -->\n",
       "<g class=\"node\" id=\"node5\"><title>139891623349776</title>\n",
       "<polygon fill=\"none\" points=\"31.5,-219.5 31.5,-255.5 179.5,-255.5 179.5,-219.5 31.5,-219.5\" stroke=\"black\"/>\n",
       "<text font-family=\"Times,serif\" font-size=\"14.00\" text-anchor=\"middle\" x=\"105.5\" y=\"-233.8\">activation_3: Activation</text>\n",
       "</g>\n",
       "<!-- 139891616463840&#45;&gt;139891623349776 -->\n",
       "<g class=\"edge\" id=\"edge4\"><title>139891616463840-&gt;139891623349776</title>\n",
       "<path d=\"M105.5,-292.313C105.5,-284.289 105.5,-274.547 105.5,-265.569\" fill=\"none\" stroke=\"black\"/>\n",
       "<polygon fill=\"black\" points=\"109,-265.529 105.5,-255.529 102,-265.529 109,-265.529\" stroke=\"black\"/>\n",
       "</g>\n",
       "<!-- 139891616140424 -->\n",
       "<g class=\"node\" id=\"node6\"><title>139891616140424</title>\n",
       "<polygon fill=\"none\" points=\"24,-146.5 24,-182.5 187,-182.5 187,-146.5 24,-146.5\" stroke=\"black\"/>\n",
       "<text font-family=\"Times,serif\" font-size=\"14.00\" text-anchor=\"middle\" x=\"105.5\" y=\"-160.8\">max_pool: MaxPooling2D</text>\n",
       "</g>\n",
       "<!-- 139891623349776&#45;&gt;139891616140424 -->\n",
       "<g class=\"edge\" id=\"edge5\"><title>139891623349776-&gt;139891616140424</title>\n",
       "<path d=\"M105.5,-219.313C105.5,-211.289 105.5,-201.547 105.5,-192.569\" fill=\"none\" stroke=\"black\"/>\n",
       "<polygon fill=\"black\" points=\"109,-192.529 105.5,-182.529 102,-192.529 109,-192.529\" stroke=\"black\"/>\n",
       "</g>\n",
       "<!-- 139891616218696 -->\n",
       "<g class=\"node\" id=\"node7\"><title>139891616218696</title>\n",
       "<polygon fill=\"none\" points=\"50.5,-73.5 50.5,-109.5 160.5,-109.5 160.5,-73.5 50.5,-73.5\" stroke=\"black\"/>\n",
       "<text font-family=\"Times,serif\" font-size=\"14.00\" text-anchor=\"middle\" x=\"105.5\" y=\"-87.8\">flatten_3: Flatten</text>\n",
       "</g>\n",
       "<!-- 139891616140424&#45;&gt;139891616218696 -->\n",
       "<g class=\"edge\" id=\"edge6\"><title>139891616140424-&gt;139891616218696</title>\n",
       "<path d=\"M105.5,-146.313C105.5,-138.289 105.5,-128.547 105.5,-119.569\" fill=\"none\" stroke=\"black\"/>\n",
       "<polygon fill=\"black\" points=\"109,-119.529 105.5,-109.529 102,-119.529 109,-119.529\" stroke=\"black\"/>\n",
       "</g>\n",
       "<!-- 139891615791088 -->\n",
       "<g class=\"node\" id=\"node8\"><title>139891615791088</title>\n",
       "<polygon fill=\"none\" points=\"71.5,-0.5 71.5,-36.5 139.5,-36.5 139.5,-0.5 71.5,-0.5\" stroke=\"black\"/>\n",
       "<text font-family=\"Times,serif\" font-size=\"14.00\" text-anchor=\"middle\" x=\"105.5\" y=\"-14.8\">fc: Dense</text>\n",
       "</g>\n",
       "<!-- 139891616218696&#45;&gt;139891615791088 -->\n",
       "<g class=\"edge\" id=\"edge7\"><title>139891616218696-&gt;139891615791088</title>\n",
       "<path d=\"M105.5,-73.3129C105.5,-65.2895 105.5,-55.5475 105.5,-46.5691\" fill=\"none\" stroke=\"black\"/>\n",
       "<polygon fill=\"black\" points=\"109,-46.5288 105.5,-36.5288 102,-46.5289 109,-46.5288\" stroke=\"black\"/>\n",
       "</g>\n",
       "</g>\n",
       "</svg>"
      ],
      "text/plain": [
       "<IPython.core.display.SVG object>"
      ]
     },
     "execution_count": 14,
     "metadata": {},
     "output_type": "execute_result"
    }
   ],
   "source": [
    "plot_model(happyModel, to_file='HappyModel.png')\n",
    "SVG(model_to_dot(happyModel).create(prog='dot', format='svg'))"
   ]
  }
 ],
 "metadata": {
  "kernelspec": {
   "display_name": "Python 3",
   "language": "python",
   "name": "python3"
  },
  "language_info": {
   "codemirror_mode": {
    "name": "ipython",
    "version": 3
   },
   "file_extension": ".py",
   "mimetype": "text/x-python",
   "name": "python",
   "nbconvert_exporter": "python",
   "pygments_lexer": "ipython3",
   "version": "3.6.0"
  }
 },
 "nbformat": 4,
 "nbformat_minor": 2
}
